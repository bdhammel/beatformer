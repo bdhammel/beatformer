{
 "cells": [
  {
   "cell_type": "code",
   "execution_count": 8,
   "id": "052c1b84-db84-4cf6-9ad7-0a06403ecfc5",
   "metadata": {
    "tags": []
   },
   "outputs": [],
   "source": [
    "import numpy as np\n",
    "from IPython.display import Audio\n",
    "import torch.nn as nn\n",
    "import torch\n",
    "from collections import namedtuple"
   ]
  },
  {
   "cell_type": "code",
   "execution_count": 9,
   "id": "12fd666e-e594-43b0-9e03-99fcc6e1d4c0",
   "metadata": {
    "tags": []
   },
   "outputs": [],
   "source": [
    "class Music:\n",
    "    samplerate: \"samples / s\" = 4000\n",
    "    beat_duration: \"s\" = 1/4\n",
    "    bpm: \"beats / m\" = 120\n",
    "    rythm: \"beats / measure\" = 4\n",
    "    \n",
    "    @property\n",
    "    def bps(self) -> \"beats / s\":\n",
    "        seconds_per_min: \"s / m\" = 60\n",
    "        return self.bpm * (1/seconds_per_min)\n",
    "    \n",
    "    @property\n",
    "    def spb(self) -> \"s / beat\":\n",
    "        return 1/self.bps\n",
    "\n",
    "    @property\n",
    "    def beat_slice(self) -> slice:\n",
    "        num_samples_in_beat = int(self.beat_duration * self.samplerate)\n",
    "        return np.s_[0: num_samples_in_beat] \n",
    "        \n",
    "    def new_measure(self) -> np.ndarray:\n",
    "        samples_per_measure = int(self.samplerate * self.rythm * self.spb)\n",
    "        return np.zeros(samples_per_measure)\n",
    "    \n",
    "    @property\n",
    "    def samples(self) -> 'samples':\n",
    "        num_samples_in_beat = int(self.beat_duration * self.samplerate)\n",
    "        return num_samples_in_beat\n",
    "    \n",
    "\n",
    "music = Music()"
   ]
  },
  {
   "cell_type": "code",
   "execution_count": 12,
   "id": "95fcba23-d6e9-4907-9b32-6d9aaacc8833",
   "metadata": {
    "tags": []
   },
   "outputs": [],
   "source": [
    "# https://www.cuidevices.com/blog/understanding-audio-frequency-range-in-audio-design\n",
    "\n",
    "\n",
    "class Beat:\n",
    "    def __init__(self, c: int, freq: float, amp: float, music: Music):\n",
    "        self.music = music\n",
    "        self.c = c\n",
    "        self.freq = freq\n",
    "        self.amp = amp\n",
    "    \n",
    "    @property\n",
    "    def duration(self) -> 's':\n",
    "        return self.music.beat_duration\n",
    "    \n",
    "    def play_beat(self):\n",
    "        t = np.linspace(0, self.duration, self.music.samples, dtype=np.float32)\n",
    "        note = self.amp*np.sin(self.freq * t * 2 * np.pi, dtype=np.float32)\n",
    "        return  note \n",
    "    \n",
    "\n",
    "class BeatEmbed:\n",
    "    \n",
    "    def __init__(self, beats, music: Music):\n",
    "        self.vocab_size = len(beats)\n",
    "        self.music = music\n",
    "        emb_table = np.zeros((self.vocab_size, self.emb_dim))\n",
    "        for beat in beats:\n",
    "            sound = beat.play_beat()\n",
    "            emb_table[beat.c, self.music.beat_slice] = sound\n",
    "        \n",
    "        self.emb_table = torch.Tensor(emb_table)\n",
    "    \n",
    "    @property\n",
    "    def emb_dim(self):\n",
    "        return self.music.samples\n",
    "    \n",
    "    def __call__(self, c):\n",
    "        return self.emb_table[c]\n",
    "\n",
    "\n",
    "quiet = Beat(c=0, freq=10, amp=0, music=music) \n",
    "sub = Beat(c=1, freq=30, amp=1, music=music) \n",
    "bass = Beat(c=2, freq=60, amp=1, music=music) \n",
    "mid = Beat(c=3, freq=250, amp=.2, music=music) \n",
    "high = Beat(c=4, freq=2000, amp=.005, music=music) \n",
    "\n",
    "beats =  [quiet, sub, bass, mid, high]\n",
    "beat_embed = BeatEmbed(beats, music=music)"
   ]
  },
  {
   "cell_type": "code",
   "execution_count": 14,
   "id": "0c9f5347-ae16-486e-af25-29a3881e4ab9",
   "metadata": {
    "tags": []
   },
   "outputs": [],
   "source": [
    "sound = sub.play_beat()"
   ]
  },
  {
   "cell_type": "code",
   "execution_count": 19,
   "id": "5f342bab-5274-44e1-8aeb-e24033f6226c",
   "metadata": {
    "tags": []
   },
   "outputs": [
    {
     "data": {
      "text/html": [
       "\n",
       "                <audio  controls=\"controls\" >\n",
       "                    <source src=\"data:audio/wav;base64,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\" type=\"audio/wav\" />\n",
       "                    Your browser does not support the audio element.\n",
       "                </audio>\n",
       "              "
      ],
      "text/plain": [
       "<IPython.lib.display.Audio object>"
      ]
     },
     "execution_count": 19,
     "metadata": {},
     "output_type": "execute_result"
    }
   ],
   "source": [
    "Audio(sound, rate=music.samplerate)"
   ]
  },
  {
   "cell_type": "code",
   "execution_count": 16,
   "id": "09b873ec-62a6-4f6b-9cad-042f95f358da",
   "metadata": {},
   "outputs": [],
   "source": [
    "class Attention(nn.Module):\n",
    "    \n",
    "    def __init__(self, dim):\n",
    "        super().__init__()\n",
    "        self.dim = dim\n",
    "        self.W_qk = torch.randn(dim, dim)\n",
    "        self.W_v = torch.eye(dim) # nn.Linear(dim, dim, bias=False)\n",
    "        self.proj = nn.Linear(dim, dim)\n",
    "        self.scale = self.dim**-0.5\n",
    "        \n",
    "    def forward(self, X):\n",
    "        B, S, E = x.shape\n",
    "        QK = x @ W_qk @ x.transpose(-2, -1) / self.scale\n",
    "        V = self.W_v(x)\n",
    "        # QK = Q @ K.transpose(-2, -1) / self.scale\n",
    "        attn = torch.softmax(QK, dim=-1)\n",
    "        z = QK @ V\n",
    "        return self.proj(z)"
   ]
  },
  {
   "cell_type": "code",
   "execution_count": 17,
   "id": "be85b05f-cf15-448c-8096-51a4645d2c1e",
   "metadata": {
    "tags": []
   },
   "outputs": [],
   "source": [
    "attn = Attention(512)"
   ]
  },
  {
   "cell_type": "code",
   "execution_count": 18,
   "id": "a5fb0c2c-113d-4f1a-a1ca-055b165f69fd",
   "metadata": {
    "tags": []
   },
   "outputs": [
    {
     "data": {
      "text/plain": [
       "Attention(\n",
       "  (proj): Linear(in_features=512, out_features=512, bias=True)\n",
       ")"
      ]
     },
     "execution_count": 18,
     "metadata": {},
     "output_type": "execute_result"
    }
   ],
   "source": [
    "attn"
   ]
  },
  {
   "cell_type": "code",
   "execution_count": null,
   "id": "e86a9153-f60c-496e-9be7-708e31f8e5de",
   "metadata": {},
   "outputs": [],
   "source": []
  }
 ],
 "metadata": {
  "kernelspec": {
   "display_name": "Python 3 (ipykernel)",
   "language": "python",
   "name": "python3"
  },
  "language_info": {
   "codemirror_mode": {
    "name": "ipython",
    "version": 3
   },
   "file_extension": ".py",
   "mimetype": "text/x-python",
   "name": "python",
   "nbconvert_exporter": "python",
   "pygments_lexer": "ipython3",
   "version": "3.10.8"
  }
 },
 "nbformat": 4,
 "nbformat_minor": 5
}
